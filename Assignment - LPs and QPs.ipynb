{
 "cells": [
  {
   "cell_type": "code",
   "execution_count": 3,
   "metadata": {
    "collapsed": true
   },
   "outputs": [],
   "source": [
    "import numpy as np\n",
    "from scipy.optimize import linprog\n",
    "import cvxopt\n",
    "import matplotlib.pyplot as plt\n",
    "from matplotlib.patches import Polygon\n",
    "%matplotlib inline"
   ]
  },
  {
   "cell_type": "markdown",
   "metadata": {},
   "source": [
    "Solve the following exercises on linear quadratic programming using optimization routines from SciPy and / or CVXOPT. Visualize the cost function on a figure, indicate the optimal solution and draw the feasible region."
   ]
  },
  {
   "cell_type": "markdown",
   "metadata": {},
   "source": [
    "# Linear programming\n",
    "\n",
    "You can use either `scipy.optimize.linprog` or `cvxopt.solvers.lp` for these exercises."
   ]
  },
  {
   "cell_type": "markdown",
   "metadata": {},
   "source": [
    "## Exercise 1\n",
    "\n",
    "Minimize $2x-y$ subject to\n",
    "\n",
    "$$\n",
    "2 \\leq x \\leq 6 \\\\\n",
    "3 \\leq y \\leq 5\n",
    "$$"
   ]
  },
  {
   "cell_type": "markdown",
   "metadata": {},
   "source": [
    "## Exercise 2\n",
    "\n",
    "Maximize $x + y$ subject to\n",
    "\n",
    "$$\n",
    "4x - y \\leq 8 \\\\\n",
    "2x + y \\leq 10 \\\\\n",
    "5x - 2y \\geq -2 \\\\\n",
    "x, y \\geq 0\n",
    "$$\n",
    "\n",
    "Notes:\n",
    "\n",
    "- Watch out for *maximize* instead of *minimize*\n",
    "- Watch out for correct signs in inequalities\n",
    "- Pay attention to translation to CVXOPT formulation (slacks!)"
   ]
  },
  {
   "cell_type": "markdown",
   "metadata": {},
   "source": [
    "# Quadratic programming\n",
    "\n",
    "Use `cvxopt.solvers.qp` for these exercises."
   ]
  },
  {
   "cell_type": "markdown",
   "metadata": {},
   "source": [
    "## Exercise 1\n",
    "\n",
    "Minimize the cost function\n",
    "\n",
    "$$3x^2 - 2x,$$\n",
    "\n",
    "subject to the constraint $2x \\leq -7$."
   ]
  },
  {
   "cell_type": "markdown",
   "metadata": {},
   "source": [
    "## Exercise 2\n",
    "\n",
    "Minimize the cost function\n",
    "\n",
    "$$ 2x^2 + xy + y^2 + 0.3x - 10y $$\n",
    "\n",
    "subject to the constraints:\n",
    "\n",
    "$$\n",
    "x \\leq 5 \\\\\n",
    "y \\geq -7 \\\\\n",
    "y \\leq x\n",
    "$$"
   ]
  },
  {
   "cell_type": "code",
   "execution_count": null,
   "metadata": {
    "collapsed": true
   },
   "outputs": [],
   "source": []
  },
  {
   "cell_type": "code",
   "execution_count": null,
   "metadata": {
    "collapsed": true
   },
   "outputs": [],
   "source": []
  }
 ],
 "metadata": {
  "kernelspec": {
   "display_name": "Python 3",
   "language": "python",
   "name": "python3"
  },
  "language_info": {
   "codemirror_mode": {
    "name": "ipython",
    "version": 3
   },
   "file_extension": ".py",
   "mimetype": "text/x-python",
   "name": "python",
   "nbconvert_exporter": "python",
   "pygments_lexer": "ipython3",
   "version": "3.6.3"
  }
 },
 "nbformat": 4,
 "nbformat_minor": 2
}
